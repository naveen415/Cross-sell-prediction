{
 "cells": [
  {
   "cell_type": "markdown",
   "metadata": {
    "id": "DyQyLBpafqN1"
   },
   "source": [
    "# Code 1\n",
    "- Build Basic Pipeline\n",
    "- DataFrame Checks\n",
    "- Group By\n",
    "- If Then Model\n",
    "- First Submission\n",
    "- Import & Export"
   ]
  },
  {
   "cell_type": "markdown",
   "metadata": {
    "id": "E6GGM7FCfqN7"
   },
   "source": [
    "## 1/ Import Libraries\n",
    "- Mount Google Drive\n",
    "- Import Pandas Library"
   ]
  },
  {
   "cell_type": "code",
   "execution_count": 1,
   "metadata": {
    "colab": {
     "base_uri": "https://localhost:8080/"
    },
    "executionInfo": {
     "elapsed": 21405,
     "status": "ok",
     "timestamp": 1618470533381,
     "user": {
      "displayName": "Data Science Master Minds",
      "photoUrl": "",
      "userId": "13790691282857793894"
     },
     "user_tz": -330
    },
    "id": "ds0TQ-Q0goNm",
    "outputId": "a44bf4e8-d814-4796-83f8-084f43dd7098"
   },
   "outputs": [
    {
     "name": "stdout",
     "output_type": "stream",
     "text": [
      "Mounted at /mntDrive\n"
     ]
    }
   ],
   "source": [
    "#CodeSection1\n",
    "# from google.colab import drive\n",
    "# drive.mount('/mntDrive') "
   ]
  },
  {
   "cell_type": "code",
   "execution_count": 32,
   "metadata": {
    "executionInfo": {
     "elapsed": 1405,
     "status": "ok",
     "timestamp": 1618470964846,
     "user": {
      "displayName": "Data Science Master Minds",
      "photoUrl": "",
      "userId": "13790691282857793894"
     },
     "user_tz": -330
    },
    "id": "qh_ukDiHfqN8"
   },
   "outputs": [],
   "source": [
    "#CodeSection2\n",
    "import pandas as pd"
   ]
  },
  {
   "cell_type": "markdown",
   "metadata": {
    "id": "-GJMWYMPfqN9"
   },
   "source": [
    "## 2/ Import Data\n",
    "- Import Train and Test [use read_csv()]"
   ]
  },
  {
   "cell_type": "code",
   "execution_count": 33,
   "metadata": {
    "id": "JCWx92Ldhv-A"
   },
   "outputs": [],
   "source": [
    "#/mntDrive/MyDrive/Project MasterMind/1 - Planning Stage/2- Research/6- New Teaching Method/Loan Prediction (Webinar Flow)/Solution Codes/input/"
   ]
  },
  {
   "cell_type": "code",
   "execution_count": 34,
   "metadata": {
    "executionInfo": {
     "elapsed": 4231,
     "status": "ok",
     "timestamp": 1618471105163,
     "user": {
      "displayName": "Data Science Master Minds",
      "photoUrl": "",
      "userId": "13790691282857793894"
     },
     "user_tz": -330
    },
    "id": "YJGrR7M8fqN9"
   },
   "outputs": [],
   "source": [
    "#CodeSection3\n",
    "train=pd.read_csv('input/train.csv')\n",
    "test=pd.read_csv('input/test.csv')"
   ]
  },
  {
   "cell_type": "markdown",
   "metadata": {
    "id": "ASV_hmlEfqN9"
   },
   "source": [
    "### Check Train Data\n",
    "- Check first 5 rows of train [head(), info()]\n",
    "- Get Summary Statistics [describe()]\n",
    "- Check/Identify the \"y\"/dependent variable"
   ]
  },
  {
   "cell_type": "code",
   "execution_count": 35,
   "metadata": {
    "colab": {
     "base_uri": "https://localhost:8080/",
     "height": 239
    },
    "executionInfo": {
     "elapsed": 1080,
     "status": "ok",
     "timestamp": 1618471143113,
     "user": {
      "displayName": "Data Science Master Minds",
      "photoUrl": "",
      "userId": "13790691282857793894"
     },
     "user_tz": -330
    },
    "id": "nad3bLcEfqN-",
    "outputId": "9ed72d61-9c9e-4b3e-89d1-bc6cc0b86a99"
   },
   "outputs": [
    {
     "data": {
      "text/html": [
       "<div>\n",
       "<style scoped>\n",
       "    .dataframe tbody tr th:only-of-type {\n",
       "        vertical-align: middle;\n",
       "    }\n",
       "\n",
       "    .dataframe tbody tr th {\n",
       "        vertical-align: top;\n",
       "    }\n",
       "\n",
       "    .dataframe thead th {\n",
       "        text-align: right;\n",
       "    }\n",
       "</style>\n",
       "<table border=\"1\" class=\"dataframe\">\n",
       "  <thead>\n",
       "    <tr style=\"text-align: right;\">\n",
       "      <th></th>\n",
       "      <th>id</th>\n",
       "      <th>Gender</th>\n",
       "      <th>Age</th>\n",
       "      <th>Driving_License</th>\n",
       "      <th>Region_Code</th>\n",
       "      <th>Previously_Insured</th>\n",
       "      <th>Vehicle_Age</th>\n",
       "      <th>Vehicle_Damage</th>\n",
       "      <th>Annual_Premium</th>\n",
       "      <th>Policy_Sales_Channel</th>\n",
       "      <th>Vintage</th>\n",
       "      <th>Response</th>\n",
       "    </tr>\n",
       "  </thead>\n",
       "  <tbody>\n",
       "    <tr>\n",
       "      <th>0</th>\n",
       "      <td>1</td>\n",
       "      <td>Male</td>\n",
       "      <td>44</td>\n",
       "      <td>1</td>\n",
       "      <td>28.0</td>\n",
       "      <td>0</td>\n",
       "      <td>&gt; 2 Years</td>\n",
       "      <td>Yes</td>\n",
       "      <td>40454.0</td>\n",
       "      <td>26.0</td>\n",
       "      <td>217</td>\n",
       "      <td>1</td>\n",
       "    </tr>\n",
       "    <tr>\n",
       "      <th>1</th>\n",
       "      <td>2</td>\n",
       "      <td>Male</td>\n",
       "      <td>76</td>\n",
       "      <td>1</td>\n",
       "      <td>3.0</td>\n",
       "      <td>0</td>\n",
       "      <td>1-2 Year</td>\n",
       "      <td>No</td>\n",
       "      <td>33536.0</td>\n",
       "      <td>26.0</td>\n",
       "      <td>183</td>\n",
       "      <td>0</td>\n",
       "    </tr>\n",
       "    <tr>\n",
       "      <th>2</th>\n",
       "      <td>3</td>\n",
       "      <td>Male</td>\n",
       "      <td>47</td>\n",
       "      <td>1</td>\n",
       "      <td>28.0</td>\n",
       "      <td>0</td>\n",
       "      <td>&gt; 2 Years</td>\n",
       "      <td>Yes</td>\n",
       "      <td>38294.0</td>\n",
       "      <td>26.0</td>\n",
       "      <td>27</td>\n",
       "      <td>1</td>\n",
       "    </tr>\n",
       "    <tr>\n",
       "      <th>3</th>\n",
       "      <td>4</td>\n",
       "      <td>Male</td>\n",
       "      <td>21</td>\n",
       "      <td>1</td>\n",
       "      <td>11.0</td>\n",
       "      <td>1</td>\n",
       "      <td>&lt; 1 Year</td>\n",
       "      <td>No</td>\n",
       "      <td>28619.0</td>\n",
       "      <td>152.0</td>\n",
       "      <td>203</td>\n",
       "      <td>0</td>\n",
       "    </tr>\n",
       "    <tr>\n",
       "      <th>4</th>\n",
       "      <td>5</td>\n",
       "      <td>Female</td>\n",
       "      <td>29</td>\n",
       "      <td>1</td>\n",
       "      <td>41.0</td>\n",
       "      <td>1</td>\n",
       "      <td>&lt; 1 Year</td>\n",
       "      <td>No</td>\n",
       "      <td>27496.0</td>\n",
       "      <td>152.0</td>\n",
       "      <td>39</td>\n",
       "      <td>0</td>\n",
       "    </tr>\n",
       "  </tbody>\n",
       "</table>\n",
       "</div>"
      ],
      "text/plain": [
       "   id  Gender  Age  Driving_License  Region_Code  Previously_Insured  \\\n",
       "0   1    Male   44                1         28.0                   0   \n",
       "1   2    Male   76                1          3.0                   0   \n",
       "2   3    Male   47                1         28.0                   0   \n",
       "3   4    Male   21                1         11.0                   1   \n",
       "4   5  Female   29                1         41.0                   1   \n",
       "\n",
       "  Vehicle_Age Vehicle_Damage  Annual_Premium  Policy_Sales_Channel  Vintage  \\\n",
       "0   > 2 Years            Yes         40454.0                  26.0      217   \n",
       "1    1-2 Year             No         33536.0                  26.0      183   \n",
       "2   > 2 Years            Yes         38294.0                  26.0       27   \n",
       "3    < 1 Year             No         28619.0                 152.0      203   \n",
       "4    < 1 Year             No         27496.0                 152.0       39   \n",
       "\n",
       "   Response  \n",
       "0         1  \n",
       "1         0  \n",
       "2         1  \n",
       "3         0  \n",
       "4         0  "
      ]
     },
     "execution_count": 35,
     "metadata": {},
     "output_type": "execute_result"
    }
   ],
   "source": [
    "#CodeSection4\n",
    "train.head()"
   ]
  },
  {
   "cell_type": "code",
   "execution_count": 36,
   "metadata": {
    "colab": {
     "base_uri": "https://localhost:8080/",
     "height": 406
    },
    "executionInfo": {
     "elapsed": 1153,
     "status": "ok",
     "timestamp": 1618471297232,
     "user": {
      "displayName": "Data Science Master Minds",
      "photoUrl": "",
      "userId": "13790691282857793894"
     },
     "user_tz": -330
    },
    "id": "Hd1i5xlafqN_",
    "outputId": "153f68e4-71cd-47d8-d148-84fc046342e6"
   },
   "outputs": [
    {
     "data": {
      "text/html": [
       "<div>\n",
       "<style scoped>\n",
       "    .dataframe tbody tr th:only-of-type {\n",
       "        vertical-align: middle;\n",
       "    }\n",
       "\n",
       "    .dataframe tbody tr th {\n",
       "        vertical-align: top;\n",
       "    }\n",
       "\n",
       "    .dataframe thead th {\n",
       "        text-align: right;\n",
       "    }\n",
       "</style>\n",
       "<table border=\"1\" class=\"dataframe\">\n",
       "  <thead>\n",
       "    <tr style=\"text-align: right;\">\n",
       "      <th></th>\n",
       "      <th>id</th>\n",
       "      <th>Gender</th>\n",
       "      <th>Age</th>\n",
       "      <th>Driving_License</th>\n",
       "      <th>Region_Code</th>\n",
       "      <th>Previously_Insured</th>\n",
       "      <th>Vehicle_Age</th>\n",
       "      <th>Vehicle_Damage</th>\n",
       "      <th>Annual_Premium</th>\n",
       "      <th>Policy_Sales_Channel</th>\n",
       "      <th>Vintage</th>\n",
       "      <th>Response</th>\n",
       "    </tr>\n",
       "  </thead>\n",
       "  <tbody>\n",
       "    <tr>\n",
       "      <th>count</th>\n",
       "      <td>381109.000000</td>\n",
       "      <td>381109</td>\n",
       "      <td>381109.000000</td>\n",
       "      <td>381109.000000</td>\n",
       "      <td>381109.000000</td>\n",
       "      <td>381109.000000</td>\n",
       "      <td>381109</td>\n",
       "      <td>381109</td>\n",
       "      <td>381109.000000</td>\n",
       "      <td>381109.000000</td>\n",
       "      <td>381109.000000</td>\n",
       "      <td>381109.000000</td>\n",
       "    </tr>\n",
       "    <tr>\n",
       "      <th>unique</th>\n",
       "      <td>NaN</td>\n",
       "      <td>2</td>\n",
       "      <td>NaN</td>\n",
       "      <td>NaN</td>\n",
       "      <td>NaN</td>\n",
       "      <td>NaN</td>\n",
       "      <td>3</td>\n",
       "      <td>2</td>\n",
       "      <td>NaN</td>\n",
       "      <td>NaN</td>\n",
       "      <td>NaN</td>\n",
       "      <td>NaN</td>\n",
       "    </tr>\n",
       "    <tr>\n",
       "      <th>top</th>\n",
       "      <td>NaN</td>\n",
       "      <td>Male</td>\n",
       "      <td>NaN</td>\n",
       "      <td>NaN</td>\n",
       "      <td>NaN</td>\n",
       "      <td>NaN</td>\n",
       "      <td>1-2 Year</td>\n",
       "      <td>Yes</td>\n",
       "      <td>NaN</td>\n",
       "      <td>NaN</td>\n",
       "      <td>NaN</td>\n",
       "      <td>NaN</td>\n",
       "    </tr>\n",
       "    <tr>\n",
       "      <th>freq</th>\n",
       "      <td>NaN</td>\n",
       "      <td>206089</td>\n",
       "      <td>NaN</td>\n",
       "      <td>NaN</td>\n",
       "      <td>NaN</td>\n",
       "      <td>NaN</td>\n",
       "      <td>200316</td>\n",
       "      <td>192413</td>\n",
       "      <td>NaN</td>\n",
       "      <td>NaN</td>\n",
       "      <td>NaN</td>\n",
       "      <td>NaN</td>\n",
       "    </tr>\n",
       "    <tr>\n",
       "      <th>mean</th>\n",
       "      <td>190555.000000</td>\n",
       "      <td>NaN</td>\n",
       "      <td>38.822584</td>\n",
       "      <td>0.997869</td>\n",
       "      <td>26.388807</td>\n",
       "      <td>0.458210</td>\n",
       "      <td>NaN</td>\n",
       "      <td>NaN</td>\n",
       "      <td>30564.389581</td>\n",
       "      <td>112.034295</td>\n",
       "      <td>154.347397</td>\n",
       "      <td>0.122563</td>\n",
       "    </tr>\n",
       "    <tr>\n",
       "      <th>std</th>\n",
       "      <td>110016.836208</td>\n",
       "      <td>NaN</td>\n",
       "      <td>15.511611</td>\n",
       "      <td>0.046110</td>\n",
       "      <td>13.229888</td>\n",
       "      <td>0.498251</td>\n",
       "      <td>NaN</td>\n",
       "      <td>NaN</td>\n",
       "      <td>17213.155057</td>\n",
       "      <td>54.203995</td>\n",
       "      <td>83.671304</td>\n",
       "      <td>0.327936</td>\n",
       "    </tr>\n",
       "    <tr>\n",
       "      <th>min</th>\n",
       "      <td>1.000000</td>\n",
       "      <td>NaN</td>\n",
       "      <td>20.000000</td>\n",
       "      <td>0.000000</td>\n",
       "      <td>0.000000</td>\n",
       "      <td>0.000000</td>\n",
       "      <td>NaN</td>\n",
       "      <td>NaN</td>\n",
       "      <td>2630.000000</td>\n",
       "      <td>1.000000</td>\n",
       "      <td>10.000000</td>\n",
       "      <td>0.000000</td>\n",
       "    </tr>\n",
       "    <tr>\n",
       "      <th>25%</th>\n",
       "      <td>95278.000000</td>\n",
       "      <td>NaN</td>\n",
       "      <td>25.000000</td>\n",
       "      <td>1.000000</td>\n",
       "      <td>15.000000</td>\n",
       "      <td>0.000000</td>\n",
       "      <td>NaN</td>\n",
       "      <td>NaN</td>\n",
       "      <td>24405.000000</td>\n",
       "      <td>29.000000</td>\n",
       "      <td>82.000000</td>\n",
       "      <td>0.000000</td>\n",
       "    </tr>\n",
       "    <tr>\n",
       "      <th>50%</th>\n",
       "      <td>190555.000000</td>\n",
       "      <td>NaN</td>\n",
       "      <td>36.000000</td>\n",
       "      <td>1.000000</td>\n",
       "      <td>28.000000</td>\n",
       "      <td>0.000000</td>\n",
       "      <td>NaN</td>\n",
       "      <td>NaN</td>\n",
       "      <td>31669.000000</td>\n",
       "      <td>133.000000</td>\n",
       "      <td>154.000000</td>\n",
       "      <td>0.000000</td>\n",
       "    </tr>\n",
       "    <tr>\n",
       "      <th>75%</th>\n",
       "      <td>285832.000000</td>\n",
       "      <td>NaN</td>\n",
       "      <td>49.000000</td>\n",
       "      <td>1.000000</td>\n",
       "      <td>35.000000</td>\n",
       "      <td>1.000000</td>\n",
       "      <td>NaN</td>\n",
       "      <td>NaN</td>\n",
       "      <td>39400.000000</td>\n",
       "      <td>152.000000</td>\n",
       "      <td>227.000000</td>\n",
       "      <td>0.000000</td>\n",
       "    </tr>\n",
       "    <tr>\n",
       "      <th>max</th>\n",
       "      <td>381109.000000</td>\n",
       "      <td>NaN</td>\n",
       "      <td>85.000000</td>\n",
       "      <td>1.000000</td>\n",
       "      <td>52.000000</td>\n",
       "      <td>1.000000</td>\n",
       "      <td>NaN</td>\n",
       "      <td>NaN</td>\n",
       "      <td>540165.000000</td>\n",
       "      <td>163.000000</td>\n",
       "      <td>299.000000</td>\n",
       "      <td>1.000000</td>\n",
       "    </tr>\n",
       "  </tbody>\n",
       "</table>\n",
       "</div>"
      ],
      "text/plain": [
       "                   id  Gender            Age  Driving_License    Region_Code  \\\n",
       "count   381109.000000  381109  381109.000000    381109.000000  381109.000000   \n",
       "unique            NaN       2            NaN              NaN            NaN   \n",
       "top               NaN    Male            NaN              NaN            NaN   \n",
       "freq              NaN  206089            NaN              NaN            NaN   \n",
       "mean    190555.000000     NaN      38.822584         0.997869      26.388807   \n",
       "std     110016.836208     NaN      15.511611         0.046110      13.229888   \n",
       "min          1.000000     NaN      20.000000         0.000000       0.000000   \n",
       "25%      95278.000000     NaN      25.000000         1.000000      15.000000   \n",
       "50%     190555.000000     NaN      36.000000         1.000000      28.000000   \n",
       "75%     285832.000000     NaN      49.000000         1.000000      35.000000   \n",
       "max     381109.000000     NaN      85.000000         1.000000      52.000000   \n",
       "\n",
       "        Previously_Insured Vehicle_Age Vehicle_Damage  Annual_Premium  \\\n",
       "count        381109.000000      381109         381109   381109.000000   \n",
       "unique                 NaN           3              2             NaN   \n",
       "top                    NaN    1-2 Year            Yes             NaN   \n",
       "freq                   NaN      200316         192413             NaN   \n",
       "mean              0.458210         NaN            NaN    30564.389581   \n",
       "std               0.498251         NaN            NaN    17213.155057   \n",
       "min               0.000000         NaN            NaN     2630.000000   \n",
       "25%               0.000000         NaN            NaN    24405.000000   \n",
       "50%               0.000000         NaN            NaN    31669.000000   \n",
       "75%               1.000000         NaN            NaN    39400.000000   \n",
       "max               1.000000         NaN            NaN   540165.000000   \n",
       "\n",
       "        Policy_Sales_Channel        Vintage       Response  \n",
       "count          381109.000000  381109.000000  381109.000000  \n",
       "unique                   NaN            NaN            NaN  \n",
       "top                      NaN            NaN            NaN  \n",
       "freq                     NaN            NaN            NaN  \n",
       "mean              112.034295     154.347397       0.122563  \n",
       "std                54.203995      83.671304       0.327936  \n",
       "min                 1.000000      10.000000       0.000000  \n",
       "25%                29.000000      82.000000       0.000000  \n",
       "50%               133.000000     154.000000       0.000000  \n",
       "75%               152.000000     227.000000       0.000000  \n",
       "max               163.000000     299.000000       1.000000  "
      ]
     },
     "execution_count": 36,
     "metadata": {},
     "output_type": "execute_result"
    }
   ],
   "source": [
    "#CodeSection5\n",
    "train.describe(include='all')"
   ]
  },
  {
   "cell_type": "code",
   "execution_count": 37,
   "metadata": {
    "id": "UwEuGg3sfqN_"
   },
   "outputs": [
    {
     "ename": "SyntaxError",
     "evalue": "invalid syntax (<ipython-input-37-1cc4e4cadb8a>, line 4)",
     "output_type": "error",
     "traceback": [
      "\u001b[1;36m  File \u001b[1;32m\"<ipython-input-37-1cc4e4cadb8a>\"\u001b[1;36m, line \u001b[1;32m4\u001b[0m\n\u001b[1;33m    <Write your code here>\u001b[0m\n\u001b[1;37m    ^\u001b[0m\n\u001b[1;31mSyntaxError\u001b[0m\u001b[1;31m:\u001b[0m invalid syntax\n"
     ]
    }
   ],
   "source": [
    "#CodeSection6\n",
    "# Convert/Map Load_Status (Y/N) to  (1/0)\n",
    "# Only do this step if you have non-numerical label in the \"y\" variable\n",
    "<Write your code here>"
   ]
  },
  {
   "cell_type": "code",
   "execution_count": 38,
   "metadata": {
    "colab": {
     "base_uri": "https://localhost:8080/"
    },
    "executionInfo": {
     "elapsed": 916,
     "status": "ok",
     "timestamp": 1617603491086,
     "user": {
      "displayName": "Data Science Master Minds",
      "photoUrl": "",
      "userId": "13790691282857793894"
     },
     "user_tz": -330
    },
    "id": "CNnj4LL-fqN_",
    "outputId": "163e1274-b6ad-4204-81a4-586c492af3e4"
   },
   "outputs": [
    {
     "name": "stdout",
     "output_type": "stream",
     "text": [
      "<class 'pandas.core.frame.DataFrame'>\n",
      "RangeIndex: 381109 entries, 0 to 381108\n",
      "Data columns (total 12 columns):\n",
      " #   Column                Non-Null Count   Dtype  \n",
      "---  ------                --------------   -----  \n",
      " 0   id                    381109 non-null  int64  \n",
      " 1   Gender                381109 non-null  object \n",
      " 2   Age                   381109 non-null  int64  \n",
      " 3   Driving_License       381109 non-null  int64  \n",
      " 4   Region_Code           381109 non-null  float64\n",
      " 5   Previously_Insured    381109 non-null  int64  \n",
      " 6   Vehicle_Age           381109 non-null  object \n",
      " 7   Vehicle_Damage        381109 non-null  object \n",
      " 8   Annual_Premium        381109 non-null  float64\n",
      " 9   Policy_Sales_Channel  381109 non-null  float64\n",
      " 10  Vintage               381109 non-null  int64  \n",
      " 11  Response              381109 non-null  int64  \n",
      "dtypes: float64(3), int64(6), object(3)\n",
      "memory usage: 34.9+ MB\n"
     ]
    }
   ],
   "source": [
    "#CodeSection7\n",
    "train.info()"
   ]
  },
  {
   "cell_type": "markdown",
   "metadata": {
    "id": "iDTljRIXfqOA"
   },
   "source": [
    "### Check Test Data\n",
    "- Check first 5 rows of test [head(), info()]\n",
    "- Get Summary Statistics [describe()]\n",
    "- Check/Identify the \"y\"/dependent variable"
   ]
  },
  {
   "cell_type": "code",
   "execution_count": 39,
   "metadata": {
    "colab": {
     "base_uri": "https://localhost:8080/",
     "height": 241
    },
    "executionInfo": {
     "elapsed": 978,
     "status": "ok",
     "timestamp": 1617603631774,
     "user": {
      "displayName": "Data Science Master Minds",
      "photoUrl": "",
      "userId": "13790691282857793894"
     },
     "user_tz": -330
    },
    "id": "HoewayP1sIRb",
    "outputId": "24ea4dd8-4e0c-4cf9-ebcb-0196d1c733d3"
   },
   "outputs": [
    {
     "data": {
      "text/html": [
       "<div>\n",
       "<style scoped>\n",
       "    .dataframe tbody tr th:only-of-type {\n",
       "        vertical-align: middle;\n",
       "    }\n",
       "\n",
       "    .dataframe tbody tr th {\n",
       "        vertical-align: top;\n",
       "    }\n",
       "\n",
       "    .dataframe thead th {\n",
       "        text-align: right;\n",
       "    }\n",
       "</style>\n",
       "<table border=\"1\" class=\"dataframe\">\n",
       "  <thead>\n",
       "    <tr style=\"text-align: right;\">\n",
       "      <th></th>\n",
       "      <th>id</th>\n",
       "      <th>Gender</th>\n",
       "      <th>Age</th>\n",
       "      <th>Driving_License</th>\n",
       "      <th>Region_Code</th>\n",
       "      <th>Previously_Insured</th>\n",
       "      <th>Vehicle_Age</th>\n",
       "      <th>Vehicle_Damage</th>\n",
       "      <th>Annual_Premium</th>\n",
       "      <th>Policy_Sales_Channel</th>\n",
       "      <th>Vintage</th>\n",
       "    </tr>\n",
       "  </thead>\n",
       "  <tbody>\n",
       "    <tr>\n",
       "      <th>0</th>\n",
       "      <td>381110</td>\n",
       "      <td>Male</td>\n",
       "      <td>25</td>\n",
       "      <td>1</td>\n",
       "      <td>11.0</td>\n",
       "      <td>1</td>\n",
       "      <td>&lt; 1 Year</td>\n",
       "      <td>No</td>\n",
       "      <td>35786.0</td>\n",
       "      <td>152.0</td>\n",
       "      <td>53</td>\n",
       "    </tr>\n",
       "    <tr>\n",
       "      <th>1</th>\n",
       "      <td>381111</td>\n",
       "      <td>Male</td>\n",
       "      <td>40</td>\n",
       "      <td>1</td>\n",
       "      <td>28.0</td>\n",
       "      <td>0</td>\n",
       "      <td>1-2 Year</td>\n",
       "      <td>Yes</td>\n",
       "      <td>33762.0</td>\n",
       "      <td>7.0</td>\n",
       "      <td>111</td>\n",
       "    </tr>\n",
       "    <tr>\n",
       "      <th>2</th>\n",
       "      <td>381112</td>\n",
       "      <td>Male</td>\n",
       "      <td>47</td>\n",
       "      <td>1</td>\n",
       "      <td>28.0</td>\n",
       "      <td>0</td>\n",
       "      <td>1-2 Year</td>\n",
       "      <td>Yes</td>\n",
       "      <td>40050.0</td>\n",
       "      <td>124.0</td>\n",
       "      <td>199</td>\n",
       "    </tr>\n",
       "    <tr>\n",
       "      <th>3</th>\n",
       "      <td>381113</td>\n",
       "      <td>Male</td>\n",
       "      <td>24</td>\n",
       "      <td>1</td>\n",
       "      <td>27.0</td>\n",
       "      <td>1</td>\n",
       "      <td>&lt; 1 Year</td>\n",
       "      <td>Yes</td>\n",
       "      <td>37356.0</td>\n",
       "      <td>152.0</td>\n",
       "      <td>187</td>\n",
       "    </tr>\n",
       "    <tr>\n",
       "      <th>4</th>\n",
       "      <td>381114</td>\n",
       "      <td>Male</td>\n",
       "      <td>27</td>\n",
       "      <td>1</td>\n",
       "      <td>28.0</td>\n",
       "      <td>1</td>\n",
       "      <td>&lt; 1 Year</td>\n",
       "      <td>No</td>\n",
       "      <td>59097.0</td>\n",
       "      <td>152.0</td>\n",
       "      <td>297</td>\n",
       "    </tr>\n",
       "  </tbody>\n",
       "</table>\n",
       "</div>"
      ],
      "text/plain": [
       "       id Gender  Age  Driving_License  Region_Code  Previously_Insured  \\\n",
       "0  381110   Male   25                1         11.0                   1   \n",
       "1  381111   Male   40                1         28.0                   0   \n",
       "2  381112   Male   47                1         28.0                   0   \n",
       "3  381113   Male   24                1         27.0                   1   \n",
       "4  381114   Male   27                1         28.0                   1   \n",
       "\n",
       "  Vehicle_Age Vehicle_Damage  Annual_Premium  Policy_Sales_Channel  Vintage  \n",
       "0    < 1 Year             No         35786.0                 152.0       53  \n",
       "1    1-2 Year            Yes         33762.0                   7.0      111  \n",
       "2    1-2 Year            Yes         40050.0                 124.0      199  \n",
       "3    < 1 Year            Yes         37356.0                 152.0      187  \n",
       "4    < 1 Year             No         59097.0                 152.0      297  "
      ]
     },
     "execution_count": 39,
     "metadata": {},
     "output_type": "execute_result"
    }
   ],
   "source": [
    "#CodeSection8\n",
    "test.head()"
   ]
  },
  {
   "cell_type": "code",
   "execution_count": 40,
   "metadata": {
    "colab": {
     "base_uri": "https://localhost:8080/"
    },
    "executionInfo": {
     "elapsed": 938,
     "status": "ok",
     "timestamp": 1617603635786,
     "user": {
      "displayName": "Data Science Master Minds",
      "photoUrl": "",
      "userId": "13790691282857793894"
     },
     "user_tz": -330
    },
    "id": "EuELsx-cfqOA",
    "outputId": "c48f0edc-13ba-4383-d10d-67b400e5fbd8"
   },
   "outputs": [
    {
     "data": {
      "text/html": [
       "<div>\n",
       "<style scoped>\n",
       "    .dataframe tbody tr th:only-of-type {\n",
       "        vertical-align: middle;\n",
       "    }\n",
       "\n",
       "    .dataframe tbody tr th {\n",
       "        vertical-align: top;\n",
       "    }\n",
       "\n",
       "    .dataframe thead th {\n",
       "        text-align: right;\n",
       "    }\n",
       "</style>\n",
       "<table border=\"1\" class=\"dataframe\">\n",
       "  <thead>\n",
       "    <tr style=\"text-align: right;\">\n",
       "      <th></th>\n",
       "      <th>id</th>\n",
       "      <th>Age</th>\n",
       "      <th>Driving_License</th>\n",
       "      <th>Region_Code</th>\n",
       "      <th>Previously_Insured</th>\n",
       "      <th>Annual_Premium</th>\n",
       "      <th>Policy_Sales_Channel</th>\n",
       "      <th>Vintage</th>\n",
       "    </tr>\n",
       "  </thead>\n",
       "  <tbody>\n",
       "    <tr>\n",
       "      <th>count</th>\n",
       "      <td>127037.000000</td>\n",
       "      <td>127037.000000</td>\n",
       "      <td>127037.000000</td>\n",
       "      <td>127037.000000</td>\n",
       "      <td>127037.000000</td>\n",
       "      <td>127037.000000</td>\n",
       "      <td>127037.000000</td>\n",
       "      <td>127037.000000</td>\n",
       "    </tr>\n",
       "    <tr>\n",
       "      <th>mean</th>\n",
       "      <td>444628.000000</td>\n",
       "      <td>38.765903</td>\n",
       "      <td>0.998134</td>\n",
       "      <td>26.459866</td>\n",
       "      <td>0.460039</td>\n",
       "      <td>30524.643576</td>\n",
       "      <td>111.800468</td>\n",
       "      <td>154.318301</td>\n",
       "    </tr>\n",
       "    <tr>\n",
       "      <th>std</th>\n",
       "      <td>36672.567411</td>\n",
       "      <td>15.465814</td>\n",
       "      <td>0.043152</td>\n",
       "      <td>13.209916</td>\n",
       "      <td>0.498403</td>\n",
       "      <td>16945.297103</td>\n",
       "      <td>54.371765</td>\n",
       "      <td>83.661588</td>\n",
       "    </tr>\n",
       "    <tr>\n",
       "      <th>min</th>\n",
       "      <td>381110.000000</td>\n",
       "      <td>20.000000</td>\n",
       "      <td>0.000000</td>\n",
       "      <td>0.000000</td>\n",
       "      <td>0.000000</td>\n",
       "      <td>2630.000000</td>\n",
       "      <td>1.000000</td>\n",
       "      <td>10.000000</td>\n",
       "    </tr>\n",
       "    <tr>\n",
       "      <th>25%</th>\n",
       "      <td>412869.000000</td>\n",
       "      <td>25.000000</td>\n",
       "      <td>1.000000</td>\n",
       "      <td>15.000000</td>\n",
       "      <td>0.000000</td>\n",
       "      <td>24325.000000</td>\n",
       "      <td>26.000000</td>\n",
       "      <td>82.000000</td>\n",
       "    </tr>\n",
       "    <tr>\n",
       "      <th>50%</th>\n",
       "      <td>444628.000000</td>\n",
       "      <td>36.000000</td>\n",
       "      <td>1.000000</td>\n",
       "      <td>28.000000</td>\n",
       "      <td>0.000000</td>\n",
       "      <td>31642.000000</td>\n",
       "      <td>135.000000</td>\n",
       "      <td>154.000000</td>\n",
       "    </tr>\n",
       "    <tr>\n",
       "      <th>75%</th>\n",
       "      <td>476387.000000</td>\n",
       "      <td>49.000000</td>\n",
       "      <td>1.000000</td>\n",
       "      <td>35.000000</td>\n",
       "      <td>1.000000</td>\n",
       "      <td>39408.000000</td>\n",
       "      <td>152.000000</td>\n",
       "      <td>227.000000</td>\n",
       "    </tr>\n",
       "    <tr>\n",
       "      <th>max</th>\n",
       "      <td>508146.000000</td>\n",
       "      <td>85.000000</td>\n",
       "      <td>1.000000</td>\n",
       "      <td>52.000000</td>\n",
       "      <td>1.000000</td>\n",
       "      <td>472042.000000</td>\n",
       "      <td>163.000000</td>\n",
       "      <td>299.000000</td>\n",
       "    </tr>\n",
       "  </tbody>\n",
       "</table>\n",
       "</div>"
      ],
      "text/plain": [
       "                  id            Age  Driving_License    Region_Code  \\\n",
       "count  127037.000000  127037.000000    127037.000000  127037.000000   \n",
       "mean   444628.000000      38.765903         0.998134      26.459866   \n",
       "std     36672.567411      15.465814         0.043152      13.209916   \n",
       "min    381110.000000      20.000000         0.000000       0.000000   \n",
       "25%    412869.000000      25.000000         1.000000      15.000000   \n",
       "50%    444628.000000      36.000000         1.000000      28.000000   \n",
       "75%    476387.000000      49.000000         1.000000      35.000000   \n",
       "max    508146.000000      85.000000         1.000000      52.000000   \n",
       "\n",
       "       Previously_Insured  Annual_Premium  Policy_Sales_Channel        Vintage  \n",
       "count       127037.000000   127037.000000         127037.000000  127037.000000  \n",
       "mean             0.460039    30524.643576            111.800468     154.318301  \n",
       "std              0.498403    16945.297103             54.371765      83.661588  \n",
       "min              0.000000     2630.000000              1.000000      10.000000  \n",
       "25%              0.000000    24325.000000             26.000000      82.000000  \n",
       "50%              0.000000    31642.000000            135.000000     154.000000  \n",
       "75%              1.000000    39408.000000            152.000000     227.000000  \n",
       "max              1.000000   472042.000000            163.000000     299.000000  "
      ]
     },
     "execution_count": 40,
     "metadata": {},
     "output_type": "execute_result"
    }
   ],
   "source": [
    "#CodeSection9\n",
    "test.describe()"
   ]
  },
  {
   "cell_type": "code",
   "execution_count": 41,
   "metadata": {
    "colab": {
     "base_uri": "https://localhost:8080/",
     "height": 410
    },
    "executionInfo": {
     "elapsed": 1422,
     "status": "ok",
     "timestamp": 1617603657501,
     "user": {
      "displayName": "Data Science Master Minds",
      "photoUrl": "",
      "userId": "13790691282857793894"
     },
     "user_tz": -330
    },
    "id": "d9i2c0bCsLPI",
    "outputId": "db66715b-ac2c-4e8b-f9a9-d68f2eb634d4"
   },
   "outputs": [
    {
     "name": "stdout",
     "output_type": "stream",
     "text": [
      "<class 'pandas.core.frame.DataFrame'>\n",
      "RangeIndex: 127037 entries, 0 to 127036\n",
      "Data columns (total 11 columns):\n",
      " #   Column                Non-Null Count   Dtype  \n",
      "---  ------                --------------   -----  \n",
      " 0   id                    127037 non-null  int64  \n",
      " 1   Gender                127037 non-null  object \n",
      " 2   Age                   127037 non-null  int64  \n",
      " 3   Driving_License       127037 non-null  int64  \n",
      " 4   Region_Code           127037 non-null  float64\n",
      " 5   Previously_Insured    127037 non-null  int64  \n",
      " 6   Vehicle_Age           127037 non-null  object \n",
      " 7   Vehicle_Damage        127037 non-null  object \n",
      " 8   Annual_Premium        127037 non-null  float64\n",
      " 9   Policy_Sales_Channel  127037 non-null  float64\n",
      " 10  Vintage               127037 non-null  int64  \n",
      "dtypes: float64(3), int64(5), object(3)\n",
      "memory usage: 10.7+ MB\n"
     ]
    }
   ],
   "source": [
    "#CodeSection10\n",
    "test.info()"
   ]
  },
  {
   "cell_type": "markdown",
   "metadata": {
    "id": "WsmzQG4ZfqOA"
   },
   "source": [
    "## 3/ Explore any one Valuable Variable \n",
    "- Identify all the Categorical Features\n",
    "- Within them choose one feature that helps predict the dependent variable\n",
    "- Use groupby along with sum() to get the \"y\" variable by the selected categoical feature\n",
    "- Use value_counts() to get the total number of rows in each category"
   ]
  },
  {
   "cell_type": "code",
   "execution_count": 42,
   "metadata": {
    "colab": {
     "base_uri": "https://localhost:8080/",
     "height": 142
    },
    "executionInfo": {
     "elapsed": 909,
     "status": "ok",
     "timestamp": 1617604131904,
     "user": {
      "displayName": "Data Science Master Minds",
      "photoUrl": "",
      "userId": "13790691282857793894"
     },
     "user_tz": -330
    },
    "id": "p4QZfgrUfqOB",
    "outputId": "064cc9f3-5a87-4725-bca3-9840e0951f50"
   },
   "outputs": [
    {
     "data": {
      "text/html": [
       "<div>\n",
       "<style scoped>\n",
       "    .dataframe tbody tr th:only-of-type {\n",
       "        vertical-align: middle;\n",
       "    }\n",
       "\n",
       "    .dataframe tbody tr th {\n",
       "        vertical-align: top;\n",
       "    }\n",
       "\n",
       "    .dataframe thead th {\n",
       "        text-align: right;\n",
       "    }\n",
       "</style>\n",
       "<table border=\"1\" class=\"dataframe\">\n",
       "  <thead>\n",
       "    <tr style=\"text-align: right;\">\n",
       "      <th></th>\n",
       "      <th>id</th>\n",
       "      <th>Age</th>\n",
       "      <th>Driving_License</th>\n",
       "      <th>Region_Code</th>\n",
       "      <th>Previously_Insured</th>\n",
       "      <th>Annual_Premium</th>\n",
       "      <th>Policy_Sales_Channel</th>\n",
       "      <th>Vintage</th>\n",
       "      <th>Response</th>\n",
       "    </tr>\n",
       "    <tr>\n",
       "      <th>Gender</th>\n",
       "      <th></th>\n",
       "      <th></th>\n",
       "      <th></th>\n",
       "      <th></th>\n",
       "      <th></th>\n",
       "      <th></th>\n",
       "      <th></th>\n",
       "      <th></th>\n",
       "      <th></th>\n",
       "    </tr>\n",
       "  </thead>\n",
       "  <tbody>\n",
       "    <tr>\n",
       "      <th>Female</th>\n",
       "      <td>33330059601</td>\n",
       "      <td>6365958</td>\n",
       "      <td>174808</td>\n",
       "      <td>4617051.0</td>\n",
       "      <td>87949</td>\n",
       "      <td>5.337373e+09</td>\n",
       "      <td>20752558.0</td>\n",
       "      <td>27053877</td>\n",
       "      <td>18185</td>\n",
       "    </tr>\n",
       "    <tr>\n",
       "      <th>Male</th>\n",
       "      <td>39292165894</td>\n",
       "      <td>8429678</td>\n",
       "      <td>205489</td>\n",
       "      <td>5439961.0</td>\n",
       "      <td>86679</td>\n",
       "      <td>6.310991e+09</td>\n",
       "      <td>21944720.0</td>\n",
       "      <td>31769305</td>\n",
       "      <td>28525</td>\n",
       "    </tr>\n",
       "  </tbody>\n",
       "</table>\n",
       "</div>"
      ],
      "text/plain": [
       "                 id      Age  Driving_License  Region_Code  \\\n",
       "Gender                                                       \n",
       "Female  33330059601  6365958           174808    4617051.0   \n",
       "Male    39292165894  8429678           205489    5439961.0   \n",
       "\n",
       "        Previously_Insured  Annual_Premium  Policy_Sales_Channel   Vintage  \\\n",
       "Gender                                                                       \n",
       "Female               87949    5.337373e+09            20752558.0  27053877   \n",
       "Male                 86679    6.310991e+09            21944720.0  31769305   \n",
       "\n",
       "        Response  \n",
       "Gender            \n",
       "Female     18185  \n",
       "Male       28525  "
      ]
     },
     "execution_count": 42,
     "metadata": {},
     "output_type": "execute_result"
    }
   ],
   "source": [
    "#CodeSection11\n",
    "# We will use \"Gender\" for this example\n",
    "# You can select any other variable of your choice\n",
    "train.groupby('Gender').sum()"
   ]
  },
  {
   "cell_type": "code",
   "execution_count": 43,
   "metadata": {
    "colab": {
     "base_uri": "https://localhost:8080/"
    },
    "executionInfo": {
     "elapsed": 891,
     "status": "ok",
     "timestamp": 1617604118461,
     "user": {
      "displayName": "Data Science Master Minds",
      "photoUrl": "",
      "userId": "13790691282857793894"
     },
     "user_tz": -330
    },
    "id": "5mTGDDqvh8Yj",
    "outputId": "db881212-9a7b-4a66-801f-fcdd575c2472"
   },
   "outputs": [
    {
     "data": {
      "text/plain": [
       "Male      206089\n",
       "Female    175020\n",
       "Name: Gender, dtype: int64"
      ]
     },
     "execution_count": 43,
     "metadata": {},
     "output_type": "execute_result"
    }
   ],
   "source": [
    "#CodeSection12\n",
    "# Get count of rows based on each category in your selected Categorical Feature\n",
    "train['Gender'].value_counts()"
   ]
  },
  {
   "cell_type": "markdown",
   "metadata": {
    "id": "mD26U43kuvPR"
   },
   "source": [
    "***Note : If the categorical feature has more than 2 values, choose the one with highest probability***"
   ]
  },
  {
   "cell_type": "code",
   "execution_count": 46,
   "metadata": {
    "colab": {
     "base_uri": "https://localhost:8080/"
    },
    "executionInfo": {
     "elapsed": 913,
     "status": "ok",
     "timestamp": 1617604032941,
     "user": {
      "displayName": "Data Science Master Minds",
      "photoUrl": "",
      "userId": "13790691282857793894"
     },
     "user_tz": -330
    },
    "id": "VMWh3Ks_fqOB",
    "outputId": "c721ff03-e64d-4158-9a3a-b8122e5ef115"
   },
   "outputs": [
    {
     "name": "stdout",
     "output_type": "stream",
     "text": [
      " Probability of Gender=Male giving response: 13.8%\n",
      " Probability of Gender=Female giving response: 10.4%\n"
     ]
    }
   ],
   "source": [
    "#CodeSection13\n",
    "# Now the numbers to get the percentage of that category happening\n",
    "print(f\" Probability of Gender=Male giving response: {28525/206089:0.1%}\")\n",
    "print(f\" Probability of Gender=Female giving response: {18185/175020:0.1%}\")"
   ]
  },
  {
   "cell_type": "markdown",
   "metadata": {},
   "source": [
    "### Observation\n",
    "- Male shown a higher interest in vehicle insurance\n",
    "- use a IF then statement to Predict the \"y\"/dependent variable\n",
    "- Use apply(), lambda function on your selected categorical features"
   ]
  },
  {
   "cell_type": "code",
   "execution_count": 47,
   "metadata": {
    "id": "0M8ck3hNfqOB"
   },
   "outputs": [
    {
     "data": {
      "text/html": [
       "<div>\n",
       "<style scoped>\n",
       "    .dataframe tbody tr th:only-of-type {\n",
       "        vertical-align: middle;\n",
       "    }\n",
       "\n",
       "    .dataframe tbody tr th {\n",
       "        vertical-align: top;\n",
       "    }\n",
       "\n",
       "    .dataframe thead th {\n",
       "        text-align: right;\n",
       "    }\n",
       "</style>\n",
       "<table border=\"1\" class=\"dataframe\">\n",
       "  <thead>\n",
       "    <tr style=\"text-align: right;\">\n",
       "      <th></th>\n",
       "      <th>id</th>\n",
       "      <th>Gender</th>\n",
       "      <th>Age</th>\n",
       "      <th>Driving_License</th>\n",
       "      <th>Region_Code</th>\n",
       "      <th>Previously_Insured</th>\n",
       "      <th>Vehicle_Age</th>\n",
       "      <th>Vehicle_Damage</th>\n",
       "      <th>Annual_Premium</th>\n",
       "      <th>Policy_Sales_Channel</th>\n",
       "      <th>Vintage</th>\n",
       "      <th>Response</th>\n",
       "      <th>Prediction</th>\n",
       "    </tr>\n",
       "  </thead>\n",
       "  <tbody>\n",
       "    <tr>\n",
       "      <th>0</th>\n",
       "      <td>1</td>\n",
       "      <td>Male</td>\n",
       "      <td>44</td>\n",
       "      <td>1</td>\n",
       "      <td>28.0</td>\n",
       "      <td>0</td>\n",
       "      <td>&gt; 2 Years</td>\n",
       "      <td>Yes</td>\n",
       "      <td>40454.0</td>\n",
       "      <td>26.0</td>\n",
       "      <td>217</td>\n",
       "      <td>1</td>\n",
       "      <td>1</td>\n",
       "    </tr>\n",
       "    <tr>\n",
       "      <th>1</th>\n",
       "      <td>2</td>\n",
       "      <td>Male</td>\n",
       "      <td>76</td>\n",
       "      <td>1</td>\n",
       "      <td>3.0</td>\n",
       "      <td>0</td>\n",
       "      <td>1-2 Year</td>\n",
       "      <td>No</td>\n",
       "      <td>33536.0</td>\n",
       "      <td>26.0</td>\n",
       "      <td>183</td>\n",
       "      <td>0</td>\n",
       "      <td>1</td>\n",
       "    </tr>\n",
       "    <tr>\n",
       "      <th>2</th>\n",
       "      <td>3</td>\n",
       "      <td>Male</td>\n",
       "      <td>47</td>\n",
       "      <td>1</td>\n",
       "      <td>28.0</td>\n",
       "      <td>0</td>\n",
       "      <td>&gt; 2 Years</td>\n",
       "      <td>Yes</td>\n",
       "      <td>38294.0</td>\n",
       "      <td>26.0</td>\n",
       "      <td>27</td>\n",
       "      <td>1</td>\n",
       "      <td>1</td>\n",
       "    </tr>\n",
       "    <tr>\n",
       "      <th>3</th>\n",
       "      <td>4</td>\n",
       "      <td>Male</td>\n",
       "      <td>21</td>\n",
       "      <td>1</td>\n",
       "      <td>11.0</td>\n",
       "      <td>1</td>\n",
       "      <td>&lt; 1 Year</td>\n",
       "      <td>No</td>\n",
       "      <td>28619.0</td>\n",
       "      <td>152.0</td>\n",
       "      <td>203</td>\n",
       "      <td>0</td>\n",
       "      <td>1</td>\n",
       "    </tr>\n",
       "    <tr>\n",
       "      <th>4</th>\n",
       "      <td>5</td>\n",
       "      <td>Female</td>\n",
       "      <td>29</td>\n",
       "      <td>1</td>\n",
       "      <td>41.0</td>\n",
       "      <td>1</td>\n",
       "      <td>&lt; 1 Year</td>\n",
       "      <td>No</td>\n",
       "      <td>27496.0</td>\n",
       "      <td>152.0</td>\n",
       "      <td>39</td>\n",
       "      <td>0</td>\n",
       "      <td>0</td>\n",
       "    </tr>\n",
       "  </tbody>\n",
       "</table>\n",
       "</div>"
      ],
      "text/plain": [
       "   id  Gender  Age  Driving_License  Region_Code  Previously_Insured  \\\n",
       "0   1    Male   44                1         28.0                   0   \n",
       "1   2    Male   76                1          3.0                   0   \n",
       "2   3    Male   47                1         28.0                   0   \n",
       "3   4    Male   21                1         11.0                   1   \n",
       "4   5  Female   29                1         41.0                   1   \n",
       "\n",
       "  Vehicle_Age Vehicle_Damage  Annual_Premium  Policy_Sales_Channel  Vintage  \\\n",
       "0   > 2 Years            Yes         40454.0                  26.0      217   \n",
       "1    1-2 Year             No         33536.0                  26.0      183   \n",
       "2   > 2 Years            Yes         38294.0                  26.0       27   \n",
       "3    < 1 Year             No         28619.0                 152.0      203   \n",
       "4    < 1 Year             No         27496.0                 152.0       39   \n",
       "\n",
       "   Response  Prediction  \n",
       "0         1           1  \n",
       "1         0           1  \n",
       "2         1           1  \n",
       "3         0           1  \n",
       "4         0           0  "
      ]
     },
     "execution_count": 47,
     "metadata": {},
     "output_type": "execute_result"
    }
   ],
   "source": [
    "#CodeSection14\n",
    "train['Prediction']=train['Gender'].apply(lambda x: 1 if x=='Male' else 0)\n",
    "train.head()"
   ]
  },
  {
   "cell_type": "markdown",
   "metadata": {
    "id": "AutBPd9AfqOC"
   },
   "source": [
    "## 4/ Check Accuracy of Model on Train Data\n",
    "- Check using groupby() and sum() function"
   ]
  },
  {
   "cell_type": "code",
   "execution_count": 48,
   "metadata": {
    "colab": {
     "base_uri": "https://localhost:8080/",
     "height": 142
    },
    "executionInfo": {
     "elapsed": 913,
     "status": "ok",
     "timestamp": 1617604468267,
     "user": {
      "displayName": "Data Science Master Minds",
      "photoUrl": "",
      "userId": "13790691282857793894"
     },
     "user_tz": -330
    },
    "id": "YnqH-V54fqOC",
    "outputId": "eb42cb1c-ae51-4647-b54d-064ddcdc7c87"
   },
   "outputs": [
    {
     "data": {
      "text/html": [
       "<div>\n",
       "<style scoped>\n",
       "    .dataframe tbody tr th:only-of-type {\n",
       "        vertical-align: middle;\n",
       "    }\n",
       "\n",
       "    .dataframe tbody tr th {\n",
       "        vertical-align: top;\n",
       "    }\n",
       "\n",
       "    .dataframe thead th {\n",
       "        text-align: right;\n",
       "    }\n",
       "</style>\n",
       "<table border=\"1\" class=\"dataframe\">\n",
       "  <thead>\n",
       "    <tr style=\"text-align: right;\">\n",
       "      <th></th>\n",
       "      <th>id</th>\n",
       "      <th>Age</th>\n",
       "      <th>Driving_License</th>\n",
       "      <th>Region_Code</th>\n",
       "      <th>Previously_Insured</th>\n",
       "      <th>Annual_Premium</th>\n",
       "      <th>Policy_Sales_Channel</th>\n",
       "      <th>Vintage</th>\n",
       "      <th>Response</th>\n",
       "      <th>Prediction</th>\n",
       "    </tr>\n",
       "    <tr>\n",
       "      <th>Gender</th>\n",
       "      <th></th>\n",
       "      <th></th>\n",
       "      <th></th>\n",
       "      <th></th>\n",
       "      <th></th>\n",
       "      <th></th>\n",
       "      <th></th>\n",
       "      <th></th>\n",
       "      <th></th>\n",
       "      <th></th>\n",
       "    </tr>\n",
       "  </thead>\n",
       "  <tbody>\n",
       "    <tr>\n",
       "      <th>Female</th>\n",
       "      <td>33330059601</td>\n",
       "      <td>6365958</td>\n",
       "      <td>174808</td>\n",
       "      <td>4617051.0</td>\n",
       "      <td>87949</td>\n",
       "      <td>5.337373e+09</td>\n",
       "      <td>20752558.0</td>\n",
       "      <td>27053877</td>\n",
       "      <td>18185</td>\n",
       "      <td>0</td>\n",
       "    </tr>\n",
       "    <tr>\n",
       "      <th>Male</th>\n",
       "      <td>39292165894</td>\n",
       "      <td>8429678</td>\n",
       "      <td>205489</td>\n",
       "      <td>5439961.0</td>\n",
       "      <td>86679</td>\n",
       "      <td>6.310991e+09</td>\n",
       "      <td>21944720.0</td>\n",
       "      <td>31769305</td>\n",
       "      <td>28525</td>\n",
       "      <td>206089</td>\n",
       "    </tr>\n",
       "  </tbody>\n",
       "</table>\n",
       "</div>"
      ],
      "text/plain": [
       "                 id      Age  Driving_License  Region_Code  \\\n",
       "Gender                                                       \n",
       "Female  33330059601  6365958           174808    4617051.0   \n",
       "Male    39292165894  8429678           205489    5439961.0   \n",
       "\n",
       "        Previously_Insured  Annual_Premium  Policy_Sales_Channel   Vintage  \\\n",
       "Gender                                                                       \n",
       "Female               87949    5.337373e+09            20752558.0  27053877   \n",
       "Male                 86679    6.310991e+09            21944720.0  31769305   \n",
       "\n",
       "        Response  Prediction  \n",
       "Gender                        \n",
       "Female     18185           0  \n",
       "Male       28525      206089  "
      ]
     },
     "execution_count": 48,
     "metadata": {},
     "output_type": "execute_result"
    }
   ],
   "source": [
    "#CodeSection15\n",
    "train.groupby('Gender').sum()"
   ]
  },
  {
   "cell_type": "markdown",
   "metadata": {
    "id": "ZtuCNVAjfqOC"
   },
   "source": [
    "### We can use a Accuracy Function from Metrics\n",
    "- Use the sklearn.metrics library\n",
    "- Within it we will choose the \"accuracy_score\" function\n",
    "- We will compare the Actual \"y\" against the Predicted \"y\" using the IF THEN model"
   ]
  },
  {
   "cell_type": "code",
   "execution_count": 49,
   "metadata": {
    "id": "iQVpvrjXfqOC"
   },
   "outputs": [],
   "source": [
    "#CodeSection16\n",
    "from sklearn.metrics import roc_auc_score"
   ]
  },
  {
   "cell_type": "code",
   "execution_count": 50,
   "metadata": {
    "id": "J7tnP164fqOC"
   },
   "outputs": [],
   "source": [
    "#CodeSection17\n",
    "y_actual=train['Response']\n",
    "y_pred=train['Prediction']"
   ]
  },
  {
   "cell_type": "code",
   "execution_count": 51,
   "metadata": {
    "colab": {
     "base_uri": "https://localhost:8080/"
    },
    "executionInfo": {
     "elapsed": 1171,
     "status": "ok",
     "timestamp": 1617604587414,
     "user": {
      "displayName": "Data Science Master Minds",
      "photoUrl": "",
      "userId": "13790691282857793894"
     },
     "user_tz": -330
    },
    "id": "B_YaVRh7fqOD",
    "outputId": "b1fd78e6-5065-42d1-e525-25e4ad77d2ee"
   },
   "outputs": [
    {
     "name": "stdout",
     "output_type": "stream",
     "text": [
      " Train Accuracy : 54.0%\n"
     ]
    }
   ],
   "source": [
    "#CodeSection18\n",
    "print(f\" Train Accuracy : {roc_auc_score(y_actual, y_pred):0.1%}\")"
   ]
  },
  {
   "cell_type": "markdown",
   "metadata": {
    "id": "OOQy_q8av0g2"
   },
   "source": [
    "***Q : What accuracy do you observe?***"
   ]
  },
  {
   "cell_type": "markdown",
   "metadata": {
    "id": "2r6oAJKbfqOD"
   },
   "source": [
    "## 5/ Prediction and Submission\n",
    "- now lets predict using unseen (test dataset); note test dataset does not have \"y\" variable\n",
    "- use apply() and lambda function combo again\n",
    "- check the prediciton using groupby() and sum()"
   ]
  },
  {
   "cell_type": "markdown",
   "metadata": {
    "id": "DnSQRupXjk_3"
   },
   "source": [
    "### Predict"
   ]
  },
  {
   "cell_type": "code",
   "execution_count": 52,
   "metadata": {
    "id": "RtP7KgB9fqOD"
   },
   "outputs": [],
   "source": [
    "#CodeSection19\n",
    "test['Response_pred']=test['Gender'].apply(lambda x: 1 if x=='Male' else 0)"
   ]
  },
  {
   "cell_type": "code",
   "execution_count": 55,
   "metadata": {
    "colab": {
     "base_uri": "https://localhost:8080/",
     "height": 142
    },
    "executionInfo": {
     "elapsed": 786,
     "status": "ok",
     "timestamp": 1617604723624,
     "user": {
      "displayName": "Data Science Master Minds",
      "photoUrl": "",
      "userId": "13790691282857793894"
     },
     "user_tz": -330
    },
    "id": "hJy4ME5QfqOD",
    "outputId": "beec7563-53c8-4ade-96b1-7d728098d7b5"
   },
   "outputs": [
    {
     "data": {
      "text/html": [
       "<div>\n",
       "<style scoped>\n",
       "    .dataframe tbody tr th:only-of-type {\n",
       "        vertical-align: middle;\n",
       "    }\n",
       "\n",
       "    .dataframe tbody tr th {\n",
       "        vertical-align: top;\n",
       "    }\n",
       "\n",
       "    .dataframe thead th {\n",
       "        text-align: right;\n",
       "    }\n",
       "</style>\n",
       "<table border=\"1\" class=\"dataframe\">\n",
       "  <thead>\n",
       "    <tr style=\"text-align: right;\">\n",
       "      <th></th>\n",
       "      <th>id</th>\n",
       "      <th>Age</th>\n",
       "      <th>Driving_License</th>\n",
       "      <th>Region_Code</th>\n",
       "      <th>Previously_Insured</th>\n",
       "      <th>Annual_Premium</th>\n",
       "      <th>Policy_Sales_Channel</th>\n",
       "      <th>Vintage</th>\n",
       "      <th>Response_pred</th>\n",
       "    </tr>\n",
       "    <tr>\n",
       "      <th>Gender</th>\n",
       "      <th></th>\n",
       "      <th></th>\n",
       "      <th></th>\n",
       "      <th></th>\n",
       "      <th></th>\n",
       "      <th></th>\n",
       "      <th></th>\n",
       "      <th></th>\n",
       "      <th></th>\n",
       "    </tr>\n",
       "  </thead>\n",
       "  <tbody>\n",
       "    <tr>\n",
       "      <th>Female</th>\n",
       "      <td>26143233676</td>\n",
       "      <td>2132869</td>\n",
       "      <td>58734</td>\n",
       "      <td>1555070.0</td>\n",
       "      <td>29737</td>\n",
       "      <td>1.791694e+09</td>\n",
       "      <td>6962491.0</td>\n",
       "      <td>9078535</td>\n",
       "      <td>0</td>\n",
       "    </tr>\n",
       "    <tr>\n",
       "      <th>Male</th>\n",
       "      <td>30340973560</td>\n",
       "      <td>2791835</td>\n",
       "      <td>68066</td>\n",
       "      <td>1806312.0</td>\n",
       "      <td>28705</td>\n",
       "      <td>2.086065e+09</td>\n",
       "      <td>7240305.0</td>\n",
       "      <td>10525599</td>\n",
       "      <td>68236</td>\n",
       "    </tr>\n",
       "  </tbody>\n",
       "</table>\n",
       "</div>"
      ],
      "text/plain": [
       "                 id      Age  Driving_License  Region_Code  \\\n",
       "Gender                                                       \n",
       "Female  26143233676  2132869            58734    1555070.0   \n",
       "Male    30340973560  2791835            68066    1806312.0   \n",
       "\n",
       "        Previously_Insured  Annual_Premium  Policy_Sales_Channel   Vintage  \\\n",
       "Gender                                                                       \n",
       "Female               29737    1.791694e+09             6962491.0   9078535   \n",
       "Male                 28705    2.086065e+09             7240305.0  10525599   \n",
       "\n",
       "        Response_pred  \n",
       "Gender                 \n",
       "Female              0  \n",
       "Male            68236  "
      ]
     },
     "execution_count": 55,
     "metadata": {},
     "output_type": "execute_result"
    }
   ],
   "source": [
    "#CodeSection20\n",
    "test.groupby('Gender').sum()"
   ]
  },
  {
   "cell_type": "markdown",
   "metadata": {
    "id": "og70_esDwaQR"
   },
   "source": [
    "*Use **value_counts()** to check your prediction split*"
   ]
  },
  {
   "cell_type": "code",
   "execution_count": 56,
   "metadata": {
    "colab": {
     "base_uri": "https://localhost:8080/"
    },
    "executionInfo": {
     "elapsed": 639,
     "status": "ok",
     "timestamp": 1617604799322,
     "user": {
      "displayName": "Data Science Master Minds",
      "photoUrl": "",
      "userId": "13790691282857793894"
     },
     "user_tz": -330
    },
    "id": "vb76kCIkfqOE",
    "outputId": "da449f8b-f96c-4562-a97d-27997a058882"
   },
   "outputs": [
    {
     "data": {
      "text/plain": [
       "1    68236\n",
       "0    58801\n",
       "Name: Response_pred, dtype: int64"
      ]
     },
     "execution_count": 56,
     "metadata": {},
     "output_type": "execute_result"
    }
   ],
   "source": [
    "#CodeSection21\n",
    "test['Response_pred'].value_counts()"
   ]
  },
  {
   "cell_type": "markdown",
   "metadata": {
    "id": "bpr_SiLifqOE"
   },
   "source": [
    "### Import Sample Submission\n",
    "- Import the Submission file and check the first 5 rows\n",
    "- Use read_csv() and head()"
   ]
  },
  {
   "cell_type": "code",
   "execution_count": 57,
   "metadata": {
    "colab": {
     "base_uri": "https://localhost:8080/",
     "height": 204
    },
    "executionInfo": {
     "elapsed": 891,
     "status": "ok",
     "timestamp": 1617604910904,
     "user": {
      "displayName": "Data Science Master Minds",
      "photoUrl": "",
      "userId": "13790691282857793894"
     },
     "user_tz": -330
    },
    "id": "t3fm-IxCfqOE",
    "outputId": "d752d3bf-3f37-499e-f906-71bf50a17a11"
   },
   "outputs": [
    {
     "data": {
      "text/html": [
       "<div>\n",
       "<style scoped>\n",
       "    .dataframe tbody tr th:only-of-type {\n",
       "        vertical-align: middle;\n",
       "    }\n",
       "\n",
       "    .dataframe tbody tr th {\n",
       "        vertical-align: top;\n",
       "    }\n",
       "\n",
       "    .dataframe thead th {\n",
       "        text-align: right;\n",
       "    }\n",
       "</style>\n",
       "<table border=\"1\" class=\"dataframe\">\n",
       "  <thead>\n",
       "    <tr style=\"text-align: right;\">\n",
       "      <th></th>\n",
       "      <th>id</th>\n",
       "      <th>Response</th>\n",
       "    </tr>\n",
       "  </thead>\n",
       "  <tbody>\n",
       "    <tr>\n",
       "      <th>0</th>\n",
       "      <td>381110</td>\n",
       "      <td>0</td>\n",
       "    </tr>\n",
       "    <tr>\n",
       "      <th>1</th>\n",
       "      <td>381111</td>\n",
       "      <td>0</td>\n",
       "    </tr>\n",
       "    <tr>\n",
       "      <th>2</th>\n",
       "      <td>381112</td>\n",
       "      <td>0</td>\n",
       "    </tr>\n",
       "    <tr>\n",
       "      <th>3</th>\n",
       "      <td>381113</td>\n",
       "      <td>0</td>\n",
       "    </tr>\n",
       "    <tr>\n",
       "      <th>4</th>\n",
       "      <td>381114</td>\n",
       "      <td>0</td>\n",
       "    </tr>\n",
       "  </tbody>\n",
       "</table>\n",
       "</div>"
      ],
      "text/plain": [
       "       id  Response\n",
       "0  381110         0\n",
       "1  381111         0\n",
       "2  381112         0\n",
       "3  381113         0\n",
       "4  381114         0"
      ]
     },
     "execution_count": 57,
     "metadata": {},
     "output_type": "execute_result"
    }
   ],
   "source": [
    "#CodeSection22\n",
    "sample_submission=pd.read_csv('input/sample_submission.csv')\n",
    "sample_submission.head()"
   ]
  },
  {
   "cell_type": "markdown",
   "metadata": {
    "id": "3oG5Y2vXxZhA"
   },
   "source": [
    "### Create a Submission\n",
    "- Create a Dictionary to attach both the columns\n",
    "- Convert the Dictionary to Pandas Dataframe [use DataFrame()]"
   ]
  },
  {
   "cell_type": "code",
   "execution_count": 58,
   "metadata": {
    "id": "ZJco0-CzfqOF"
   },
   "outputs": [],
   "source": [
    "#CodeSection23\n",
    "submission = pd.DataFrame({\n",
    "    'id' : test['id']   ,\n",
    "    'Response' : test['Response_pred']\n",
    "})"
   ]
  },
  {
   "cell_type": "markdown",
   "metadata": {
    "id": "l42kPOrtfqOF"
   },
   "source": [
    "### Export Submission File\n",
    "- Export to output folder"
   ]
  },
  {
   "cell_type": "code",
   "execution_count": 61,
   "metadata": {
    "id": "WK916nlgfqOF"
   },
   "outputs": [],
   "source": [
    "#CodeSection24\n",
    "# Ensure you don't export the index.\n",
    "submission.to_csv('output/01_IF_THEN.csv', index=False)"
   ]
  },
  {
   "cell_type": "code",
   "execution_count": null,
   "metadata": {
    "id": "NAvcfnSbfqOF"
   },
   "outputs": [],
   "source": [
    "# LB Accuracy : 0.5423419649308348"
   ]
  }
 ],
 "metadata": {
  "colab": {
   "collapsed_sections": [],
   "name": "Working Code 1 - Baseline Solution and first Submission.ipynb",
   "provenance": [],
   "toc_visible": true
  },
  "kernelspec": {
   "display_name": "Python 3",
   "language": "python",
   "name": "python3"
  },
  "language_info": {
   "codemirror_mode": {
    "name": "ipython",
    "version": 3
   },
   "file_extension": ".py",
   "mimetype": "text/x-python",
   "name": "python",
   "nbconvert_exporter": "python",
   "pygments_lexer": "ipython3",
   "version": "3.8.3"
  }
 },
 "nbformat": 4,
 "nbformat_minor": 1
}
